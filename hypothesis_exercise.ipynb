{
 "cells": [
  {
   "attachments": {},
   "cell_type": "markdown",
   "metadata": {},
   "source": [
    "## One Sample Test \n"
   ]
  },
  {
   "cell_type": "code",
   "execution_count": 27,
   "metadata": {},
   "outputs": [],
   "source": [
    "spending = [300, 450, 120, 140, 500, 400, 691, 890, 600, 340]"
   ]
  },
  {
   "attachments": {},
   "cell_type": "markdown",
   "metadata": {},
   "source": [
    "* Average spending on Jumuia is 450 \n",
    "\n",
    "* Null Hypothesis = Average spending on Jumuia is equal to 450\n",
    "\n",
    "* Alternative Hypothesis = Average spending on Jumuia is not equal to 450"
   ]
  },
  {
   "cell_type": "code",
   "execution_count": 28,
   "metadata": {},
   "outputs": [],
   "source": [
    "import scipy.stats as stats\n",
    "\n",
    "# performing a one sample t test \n",
    "def one_sample_ttest(data, population_mean):\n",
    "    results = stats.ttest_1samp(a=data, popmean=population_mean)\n",
    "\n",
    "    return results\n",
    "    "
   ]
  },
  {
   "cell_type": "code",
   "execution_count": 29,
   "metadata": {},
   "outputs": [
    {
     "data": {
      "text/plain": [
       "Ttest_1sampResult(statistic=-0.09092382305794015, pvalue=0.9295446158017343)"
      ]
     },
     "execution_count": 29,
     "metadata": {},
     "output_type": "execute_result"
    }
   ],
   "source": [
    "one_sample_ttest(spending, 450)"
   ]
  },
  {
   "attachments": {},
   "cell_type": "markdown",
   "metadata": {},
   "source": [
    "## Two Sample Test "
   ]
  },
  {
   "cell_type": "code",
   "execution_count": 30,
   "metadata": {},
   "outputs": [],
   "source": [
    "elec_spending = [300, 450, 500, 600, 120, 789, 350, 400, 254, 900]\n",
    "\n",
    "beauty_spending = [344, 345, 234, 566, 780, 213, 450, 300, 600, 200]\n"
   ]
  },
  {
   "attachments": {},
   "cell_type": "markdown",
   "metadata": {},
   "source": [
    "* Null Hypothesis : The average electronic product  spending is equal to average beauty product spending \n",
    "\n",
    "* Alternate Hypothesis : The average electronic product spending is not equal to beauty product spending"
   ]
  },
  {
   "cell_type": "code",
   "execution_count": 31,
   "metadata": {},
   "outputs": [
    {
     "data": {
      "text/plain": [
       "Ttest_indResult(statistic=0.6473470274596995, pvalue=0.5255781045679928)"
      ]
     },
     "execution_count": 31,
     "metadata": {},
     "output_type": "execute_result"
    }
   ],
   "source": [
    "# doing a test to compare how the two products performed\n",
    "# performing a two sample test \n",
    "\n",
    "def two_sample_ttest(sample_1, sample_2): # formulating a two sample ttest function\n",
    "    results = stats.ttest_ind(a = sample_1, b = sample_2)\n",
    "\n",
    "    return results\n",
    "\n",
    "two_sample_ttest(elec_spending, beauty_spending)\n"
   ]
  },
  {
   "attachments": {},
   "cell_type": "markdown",
   "metadata": {},
   "source": [
    "* Since the p value is greater than the significane level of 0.05 then we fail to reject the null hypothesis\n",
    "* There is sufficient evidence to prove that the average spending on electronics products  is equal to the average spending on beauty products "
   ]
  },
  {
   "attachments": {},
   "cell_type": "markdown",
   "metadata": {},
   "source": [
    "## Paired Samples t-test"
   ]
  },
  {
   "cell_type": "code",
   "execution_count": 32,
   "metadata": {},
   "outputs": [
    {
     "data": {
      "text/plain": [
       "' for a paired sample t-test \\nwe are looking at the before and after\\nan experiment being conducted on sample size '"
      ]
     },
     "execution_count": 32,
     "metadata": {},
     "output_type": "execute_result"
    }
   ],
   "source": [
    "\"\"\" for a paired sample t-test \n",
    "we are looking at the before and after\n",
    "an experiment being conducted on sample size \"\"\""
   ]
  },
  {
   "cell_type": "code",
   "execution_count": null,
   "metadata": {},
   "outputs": [],
   "source": [
    "results_before = [1, 4, 2, 5, 6]\n",
    "results_after = [7, 8, 9, 10, 8]"
   ]
  },
  {
   "attachments": {},
   "cell_type": "markdown",
   "metadata": {},
   "source": [
    "* Null hypothesis : Average score before and after tution is equal\n",
    "\n",
    "* Alternative hypothesis : Average score before and after tution is not equal "
   ]
  },
  {
   "cell_type": "code",
   "execution_count": 35,
   "metadata": {},
   "outputs": [
    {
     "data": {
      "text/plain": [
       "Ttest_relResult(statistic=-5.579886659703326, pvalue=0.005057588874345128)"
      ]
     },
     "execution_count": 35,
     "metadata": {},
     "output_type": "execute_result"
    }
   ],
   "source": [
    "# creating a function to perform the paired test \n",
    "\n",
    "def paired_test(before, after):\n",
    "\n",
    "    results = stats.ttest_rel(a = before, b = after)\n",
    "\n",
    "    return results\n",
    "\n",
    "paired_test(results_before, results_after) "
   ]
  },
  {
   "attachments": {},
   "cell_type": "markdown",
   "metadata": {},
   "source": [
    "* The p_value is less that our significance level therefore we reject our null hypothesis \n",
    "* There is significant evidence that the the tuition was effective "
   ]
  },
  {
   "cell_type": "markdown",
   "metadata": {},
   "source": []
  }
 ],
 "metadata": {
  "kernelspec": {
   "display_name": "Python (learn-env)",
   "language": "python",
   "name": "learn-env"
  },
  "language_info": {
   "codemirror_mode": {
    "name": "ipython",
    "version": 3
   },
   "file_extension": ".py",
   "mimetype": "text/x-python",
   "name": "python",
   "nbconvert_exporter": "python",
   "pygments_lexer": "ipython3",
   "version": "3.8.5"
  },
  "orig_nbformat": 4
 },
 "nbformat": 4,
 "nbformat_minor": 2
}
